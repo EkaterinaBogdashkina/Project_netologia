{
 "cells": [
  {
   "cell_type": "code",
   "execution_count": 1,
   "id": "e30e7243",
   "metadata": {},
   "outputs": [
    {
     "name": "stdout",
     "output_type": "stream",
     "text": [
      "2021  - обычный год\n"
     ]
    }
   ],
   "source": [
    "# Задание 1\n",
    "year=2021\n",
    "if year%4 == 0:\n",
    "    print(year,' - високосный год')\n",
    "else:\n",
    "    print(year,' - обычный год')\n"
   ]
  },
  {
   "cell_type": "code",
   "execution_count": 2,
   "id": "ff317e2e",
   "metadata": {},
   "outputs": [
    {
     "name": "stdout",
     "output_type": "stream",
     "text": [
      "123321  - счастливый билет\n"
     ]
    }
   ],
   "source": [
    "# Задание 2\n",
    "number=123321\n",
    "number=str(number)\n",
    "list_number=list(map(int,number))\n",
    "if list_number[0]+list_number[1]+list_number[2]==list_number[3]+list_number[4]+list_number[5]:\n",
    "  print(number,' - счастливый билет')\n",
    "else:\n",
    "  print(number,' - несчастливый билет')"
   ]
  }
 ],
 "metadata": {
  "kernelspec": {
   "display_name": "Python 3",
   "language": "python",
   "name": "python3"
  },
  "language_info": {
   "codemirror_mode": {
    "name": "ipython",
    "version": 3
   },
   "file_extension": ".py",
   "mimetype": "text/x-python",
   "name": "python",
   "nbconvert_exporter": "python",
   "pygments_lexer": "ipython3",
   "version": "3.13.0"
  }
 },
 "nbformat": 4,
 "nbformat_minor": 5
}
