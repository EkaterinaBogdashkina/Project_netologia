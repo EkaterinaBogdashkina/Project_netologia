{
 "cells": [
  {
   "cell_type": "code",
   "execution_count": 2,
   "id": "745c6801",
   "metadata": {},
   "outputs": [
    {
     "name": "stdout",
     "output_type": "stream",
     "text": [
      "1840e0b9d4 ' Продукты '\n",
      "4e4f90fcfb ' Электроника '\n"
     ]
    }
   ],
   "source": [
    "# Задание 1\n",
    "import json\n",
    "f = open('purchase_log.txt\\\\purchase_log.txt', encoding='utf-8')\n",
    "i=0\n",
    "next(f)\n",
    "for line in f:\n",
    "    line = json.loads(line)\n",
    "    i+=1\n",
    "    print(line[\"user_id\"],'\\'', line[\"category\"],'\\'')\n",
    "    if i>1:\n",
    "       break\n",
    "f.close()   \n"
   ]
  }
 ],
 "metadata": {
  "kernelspec": {
   "display_name": "Python 3",
   "language": "python",
   "name": "python3"
  },
  "language_info": {
   "codemirror_mode": {
    "name": "ipython",
    "version": 3
   },
   "file_extension": ".py",
   "mimetype": "text/x-python",
   "name": "python",
   "nbconvert_exporter": "python",
   "pygments_lexer": "ipython3",
   "version": "3.13.0"
  }
 },
 "nbformat": 4,
 "nbformat_minor": 5
}
