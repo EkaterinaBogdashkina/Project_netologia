{
 "cells": [
  {
   "cell_type": "code",
   "execution_count": null,
   "id": "2b05d53a",
   "metadata": {},
   "outputs": [
    {
     "name": "stdout",
     "output_type": "stream",
     "text": [
      "user_id,source,category\n",
      "1840e0b9d4,other,Продукты\n",
      "4e4f90fcfb,context,Электроника\n"
     ]
    }
   ],
   "source": [
    "# Задание 2\n",
    "\n",
    "import json\n",
    "dict_p = {} \n",
    "with open('purchase_log.txt\\\\purchase_log.txt', encoding='utf-8') as purchases: \n",
    "  for i, line in enumerate(purchases): \n",
    "    line_p = json.loads(line) \n",
    "    key = line_p['user_id']\n",
    "    value = line_p['category']\n",
    "    dict_p[key] = value\n",
    "with open('visit_log.csv\\\\visit_log.csv', encoding='utf-8') as visit:\n",
    "    with open('funnel.csv', 'w', encoding='utf-8') as funnel:\n",
    "        for j, line_v in enumerate(visit):\n",
    "            line_v = line_v.strip().split(',')\n",
    "            if line_v[0] in dict_p.keys():\n",
    "                line_v.append(dict_p[line_v[0]])\n",
    "                line_f = ','.join(line_v)\n",
    "                funnel.write(line_f + '\\n')\n",
    "with open('funnel.csv', encoding='utf-8') as funnel_1:\n",
    "    for g, line_f1 in enumerate(funnel_1):\n",
    "        print(line_f1.strip())\n",
    "        if g>1:\n",
    "            break\n"
   ]
  }
 ],
 "metadata": {
  "kernelspec": {
   "display_name": "Python 3",
   "language": "python",
   "name": "python3"
  },
  "language_info": {
   "codemirror_mode": {
    "name": "ipython",
    "version": 3
   },
   "file_extension": ".py",
   "mimetype": "text/x-python",
   "name": "python",
   "nbconvert_exporter": "python",
   "pygments_lexer": "ipython3",
   "version": "3.13.0"
  }
 },
 "nbformat": 4,
 "nbformat_minor": 5
}
