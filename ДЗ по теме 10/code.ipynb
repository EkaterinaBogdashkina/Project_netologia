{
 "cells": [
  {
   "cell_type": "code",
   "execution_count": 1,
   "id": "de9252f2",
   "metadata": {},
   "outputs": [
    {
     "name": "stdout",
     "output_type": "stream",
     "text": [
      "     movieId                             title  rating\n",
      "174      318  Shawshank Redemption, The (1994)     153\n",
      "Фильм с наибольшим количеством оценок 5.0: Shawshank Redemption, The (1994)\n",
      "Количество оценок 5.0: 153\n"
     ]
    }
   ],
   "source": [
    "# Задание 1\n",
    "\"\"\"\n",
    "Определите, какому фильму было выставлено больше всего оценок 5.0.\n",
    "\"\"\"\n",
    "import pandas as pd\n",
    "ratings = pd.read_csv('ratings.csv', sep=',', encoding='utf-8')\n",
    "movies = pd.read_csv('movies.csv', sep=',', encoding='utf-8')\n",
    "\n",
    "ratings_movies = ratings.merge(movies, on='movieId', how='left')\n",
    "\n",
    "ratings_movies_top = ratings_movies.query('rating == 5.0')\n",
    "\n",
    "top_rated = (\n",
    "    ratings_movies_top.groupby(['movieId', 'title'])  \n",
    "    ['rating'].count()  \n",
    "    .reset_index()  \n",
    "    .sort_values('rating', ascending=False)  \n",
    "    .head(1) \n",
    ")\n",
    "\n",
    "print(top_rated)  \n",
    "print(f\"Фильм с наибольшим количеством оценок 5.0: {top_rated['title'].values[0]}\")\n",
    "print(f\"Количество оценок 5.0: {top_rated['rating'].values[0]}\")"
   ]
  },
  {
   "cell_type": "code",
   "execution_count": 2,
   "id": "f66df108",
   "metadata": {},
   "outputs": [
    {
     "name": "stdout",
     "output_type": "stream",
     "text": [
      "Суммарное потребление стран Прибалтики (категории 4, 12, 21) с 2005 по 2010 год: 240580.0\n"
     ]
    }
   ],
   "source": [
    "# Задание 2\n",
    "\"\"\"\n",
    "По данным файла power.csv посчитайте суммарное потребление стран Прибалтики (Латвия, Литва и Эстония) категорий 4, 12 и 21 за период с 2005 по 2010 год.\n",
    "Не учитывайте в расчётах отрицательные значения quantity.\n",
    "\"\"\"\n",
    "\n",
    "import pandas as pd\n",
    "power = pd.read_csv('power.csv', sep=',', encoding='utf-8')\n",
    "power.head()\n",
    "\n",
    "power_baltic = power[\n",
    "                    (power['country'].isin(['Latvia', 'Lithuania', 'Estonia'])) &\n",
    "                    (power['category'].isin([4, 12, 21])) &\n",
    "                    ((power['year'] >= 2005) & (power['year'] <= 2010)) &\n",
    "                    ((power.quantity > 0))\n",
    "]\n",
    "power_baltic.head()\n",
    "\n",
    "total_consumption = power_baltic['quantity'].sum()\n",
    "\n",
    "print(f\"Суммарное потребление стран Прибалтики (категории 4, 12, 21) с 2005 по 2010 год: {total_consumption}\")"
   ]
  }
 ],
 "metadata": {
  "kernelspec": {
   "display_name": "Python 3",
   "language": "python",
   "name": "python3"
  },
  "language_info": {
   "codemirror_mode": {
    "name": "ipython",
    "version": 3
   },
   "file_extension": ".py",
   "mimetype": "text/x-python",
   "name": "python",
   "nbconvert_exporter": "python",
   "pygments_lexer": "ipython3",
   "version": "3.13.0"
  }
 },
 "nbformat": 4,
 "nbformat_minor": 5
}
