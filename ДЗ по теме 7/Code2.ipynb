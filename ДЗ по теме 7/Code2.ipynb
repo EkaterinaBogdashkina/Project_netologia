{
 "cells": [
  {
   "cell_type": "code",
   "execution_count": 39,
   "id": "778211d2",
   "metadata": {},
   "outputs": [
    {
     "data": {
      "text/plain": [
       "['2022-01-01', '2022-01-02', '2022-01-03']"
      ]
     },
     "execution_count": 39,
     "metadata": {},
     "output_type": "execute_result"
    }
   ],
   "source": [
    "# Задание 2\n",
    "def date_range(start_date, end_date):\n",
    "    from datetime import datetime\n",
    "    from datetime import timedelta\n",
    "    \n",
    "    try:\n",
    "        start_date = datetime.strptime(start_date, '%Y-%m-%d')\n",
    "        end_date = datetime.strptime(end_date, '%Y-%m-%d')\n",
    "        list_date = []\n",
    "        i = start_date\n",
    "        while i<= end_date:\n",
    "            try:\n",
    "                list_date.append(i.strftime('%Y-%m-%d'))\n",
    "                i += timedelta(days=1)\n",
    "            except:\n",
    "                list_date = []\n",
    "    except ValueError:\n",
    "        list_date = []\n",
    "          \n",
    "    return list_date\n",
    "\n",
    "date_range('2022-01-01','2022-01-03') \n",
    "#date_range('2022-01-03','2022-01-01') \n",
    "#date_range('2022-02-30','2022-02-04') \n",
    "\n",
    "             \n"
   ]
  }
 ],
 "metadata": {
  "kernelspec": {
   "display_name": "Python 3",
   "language": "python",
   "name": "python3"
  },
  "language_info": {
   "codemirror_mode": {
    "name": "ipython",
    "version": 3
   },
   "file_extension": ".py",
   "mimetype": "text/x-python",
   "name": "python",
   "nbconvert_exporter": "python",
   "pygments_lexer": "ipython3",
   "version": "3.13.0"
  }
 },
 "nbformat": 4,
 "nbformat_minor": 5
}
