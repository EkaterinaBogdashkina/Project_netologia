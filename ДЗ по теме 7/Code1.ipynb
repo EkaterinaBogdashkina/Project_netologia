{
 "cells": [
  {
   "cell_type": "code",
   "execution_count": 1,
   "id": "5641a899",
   "metadata": {},
   "outputs": [
    {
     "data": {
      "text/plain": [
       "datetime.datetime(2002, 10, 2, 0, 0)"
      ]
     },
     "execution_count": 1,
     "metadata": {},
     "output_type": "execute_result"
    }
   ],
   "source": [
    "# Задание 1\n",
    "# The Moscow Times — Wednesday, October 2, 2002\n",
    "from datetime import datetime\n",
    "date_1 = datetime.strptime('Wednesday, October 2, 2002', '%A, %B %d, %Y')\n",
    "date_1"
   ]
  },
  {
   "cell_type": "code",
   "execution_count": 2,
   "id": "f59f06ba",
   "metadata": {},
   "outputs": [
    {
     "data": {
      "text/plain": [
       "datetime.datetime(2013, 10, 11, 0, 0)"
      ]
     },
     "execution_count": 2,
     "metadata": {},
     "output_type": "execute_result"
    }
   ],
   "source": [
    "# The Guardian — Friday, 11.10.13\n",
    "date_2 = datetime.strptime('Friday, 11.10.13', '%A, %d.%m.%y')\n",
    "date_2"
   ]
  },
  {
   "cell_type": "code",
   "execution_count": 3,
   "id": "eda44b98",
   "metadata": {},
   "outputs": [
    {
     "data": {
      "text/plain": [
       "datetime.datetime(1977, 8, 18, 0, 0)"
      ]
     },
     "execution_count": 3,
     "metadata": {},
     "output_type": "execute_result"
    }
   ],
   "source": [
    "# Daily News — Thursday, 18 August 1977\n",
    "date_3 = datetime.strptime('Thursday, 18 August 1977', '%A, %d %B %Y')\n",
    "date_3"
   ]
  }
 ],
 "metadata": {
  "kernelspec": {
   "display_name": "Python 3",
   "language": "python",
   "name": "python3"
  },
  "language_info": {
   "codemirror_mode": {
    "name": "ipython",
    "version": 3
   },
   "file_extension": ".py",
   "mimetype": "text/x-python",
   "name": "python",
   "nbconvert_exporter": "python",
   "pygments_lexer": "ipython3",
   "version": "3.13.0"
  }
 },
 "nbformat": 4,
 "nbformat_minor": 5
}
