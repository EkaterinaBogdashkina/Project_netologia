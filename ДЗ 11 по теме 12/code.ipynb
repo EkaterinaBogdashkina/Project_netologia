{
 "cells": [
  {
   "cell_type": "code",
   "execution_count": 19,
   "id": "ce4b061a",
   "metadata": {},
   "outputs": [
    {
     "name": "stdout",
     "output_type": "stream",
     "text": [
      "   userId  movieId  rating   timestamp  \\\n",
      "0       1       31     2.5  1260759144   \n",
      "1       1     1029     3.0  1260759179   \n",
      "2       1     1061     3.0  1260759182   \n",
      "3       1     1129     2.0  1260759185   \n",
      "4       1     1172     4.0  1260759205   \n",
      "\n",
      "                                            title  \\\n",
      "0                          Dangerous Minds (1995)   \n",
      "1                                    Dumbo (1941)   \n",
      "2                                 Sleepers (1996)   \n",
      "3                     Escape from New York (1981)   \n",
      "4  Cinema Paradiso (Nuovo cinema Paradiso) (1989)   \n",
      "\n",
      "                             genres            class  \n",
      "0                             Drama  средний рейтинг  \n",
      "1  Animation|Children|Drama|Musical  средний рейтинг  \n",
      "2                          Thriller  средний рейтинг  \n",
      "3  Action|Adventure|Sci-Fi|Thriller   низкий рейтинг  \n",
      "4                             Drama  средний рейтинг  \n"
     ]
    }
   ],
   "source": [
    "# Задание 1\n",
    "\"\"\"\n",
    "Напишите функцию, которая классифицирует фильмы из материалов занятия по правилам:\n",
    "- оценка 2 и ниже — низкий рейтинг;\n",
    "- оценка 4 и ниже — средний рейтинг;\n",
    "- оценка 4.5 и 5 — высокий рейтинг.\n",
    "Результат классификации запишите в столбец class.\n",
    "\"\"\"\n",
    "import pandas as pd\n",
    "\n",
    "ratings = pd.read_csv('ratings.csv', sep=',', encoding='utf-8')\n",
    "movies = pd.read_csv('movies.csv', sep=',', encoding='utf-8')\n",
    "\n",
    "ratings_movies = ratings.merge(movies, on='movieId', how='left')\n",
    "\n",
    "def classify_rating(rating):\n",
    "    if rating <= 2:\n",
    "        return 'низкий рейтинг'\n",
    "    elif 2 < rating <= 4:\n",
    "        return 'средний рейтинг'\n",
    "    elif rating >= 4.5:\n",
    "        return 'высокий рейтинг'\n",
    "    else:\n",
    "        return 'не определено'\n",
    "\n",
    "ratings_movies['class'] = ratings_movies['rating'].apply(classify_rating)\n",
    "print(ratings_movies.head())\n",
    "\n",
    "ratings_movies.to_csv('result.csv', index=False, encoding='utf-8')\n",
    "\n"
   ]
  },
  {
   "cell_type": "code",
   "execution_count": 35,
   "id": "2892128d",
   "metadata": {},
   "outputs": [
    {
     "name": "stdout",
     "output_type": "stream",
     "text": [
      "         keyword     shows     region\n",
      "0             вк  64292779  undefined\n",
      "1  одноклассники  63810309  undefined\n",
      "2          порно  41747114  undefined\n",
      "3           ютуб  39995567  undefined\n",
      "4      вконтакте  21014195  undefined\n",
      "                                     keyword   shows region\n",
      "127                             авито москва  979292  Центр\n",
      "143                               эхо москвы  889657  Центр\n",
      "197                          погода в москве  745745  Центр\n",
      "414               погода в москве на 14 дней  400914  Центр\n",
      "512                       карта метро москвы  331857  Центр\n",
      "...                                      ...     ...    ...\n",
      "99494             погода на 14 дней в москве  400914  Центр\n",
      "99590  авито ярославль автомобили с пробегом    3673  Центр\n",
      "99597               индексы москвы по адресу    3574  Центр\n",
      "99890                    яндекс метро москва    4548  Центр\n",
      "99922                      авто ру ярославль    3712  Центр\n",
      "\n",
      "[773 rows x 3 columns]\n"
     ]
    }
   ],
   "source": [
    "# Задание 2\n",
    "\"\"\"\n",
    "Используйте файл keywords.csv.\n",
    "Нужно написать гео-классификатор, который каждой строке сможет выставить географическую при надлежность определённому региону. \n",
    "Т. е. если поисковый запрос содержит название города региона, то в столбце ‘region’ пишется название этого региона. \n",
    "Если поисковый запрос не содержит названия города, то ставим ‘undefined’.\n",
    "\n",
    "Правила распределения по регионам Центр, Северо-Запад и Дальний Восток:\n",
    "geo_data = {\n",
    "‘Центр’: [‘москва’, ‘тула’, ‘ярославль’],\n",
    "‘Северо-Запад’: [‘петербург’, ‘псков’, ‘мурманск’],\n",
    "‘Дальний Восток’: [‘владивосток’, ‘сахалин’, ‘хабаровск’]\n",
    "}\n",
    "\n",
    "Результат классификации запишите в отдельный столбец region.\n",
    "\"\"\"\n",
    "\n",
    "import pandas as pd\n",
    "\n",
    "keywords = pd.read_csv('keywords.csv', sep=',', encoding='utf-8')\n",
    "\n",
    "geo_data = {\n",
    "'Центр': ['москва', 'москве', 'москвы', 'москву','тула', 'туле', 'тулу','тулы', 'ярославль', 'Ярославля', 'Ярославле'],\n",
    "'Северо-Запад': ['петербург', 'псков', 'мурманск'],\n",
    "'Дальний Восток': ['владивосток', 'сахалин', 'хабаровск']\n",
    "}\n",
    "\n",
    "def classify_region(keyword):\n",
    "    keyword = keyword.lower()\n",
    "    for region, cities in geo_data.items():\n",
    "        for city in cities:\n",
    "            if city in keyword:\n",
    "                return region\n",
    "    return 'undefined'\n",
    "\n",
    "keywords['region'] = keywords['keyword'].apply(classify_region)\n",
    "\n",
    "print(keywords.head())\n",
    "\n",
    "print(keywords[keywords['region'] == 'Центр']) # проверка\n",
    "\n",
    "keywords.to_csv('keywords_with_regions.csv', index=False)\n"
   ]
  }
 ],
 "metadata": {
  "kernelspec": {
   "display_name": "Python 3",
   "language": "python",
   "name": "python3"
  },
  "language_info": {
   "codemirror_mode": {
    "name": "ipython",
    "version": 3
   },
   "file_extension": ".py",
   "mimetype": "text/x-python",
   "name": "python",
   "nbconvert_exporter": "python",
   "pygments_lexer": "ipython3",
   "version": "3.13.0"
  }
 },
 "nbformat": 4,
 "nbformat_minor": 5
}
